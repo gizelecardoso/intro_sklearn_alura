{
 "cells": [
  {
   "cell_type": "code",
   "execution_count": 18,
   "source": [
    "# features (1 sim, 0 não)\r\n",
    "# tem pelo longo\r\n",
    "# tem perna curta?\r\n",
    "# late?\r\n",
    "\r\n",
    "porco1 = [0, 1, 0]\r\n",
    "porco2 = [0, 1, 1]\r\n",
    "porco3 = [1, 1, 0]\r\n",
    "\r\n",
    "cachorro1 = [0, 1, 1]\r\n",
    "cachorro2 = [1, 0, 1]\r\n",
    "cachorro3 = [1, 1, 1]\r\n",
    "\r\n",
    "# 1-> porco e 0 -> cachorro\r\n",
    "treino_x =  [porco1, porco2, porco3, cachorro1, cachorro2, cachorro3]\r\n",
    "treino_y = [1, 1, 1, 0, 0, 0]"
   ],
   "outputs": [],
   "metadata": {}
  },
  {
   "cell_type": "code",
   "execution_count": 19,
   "source": [
    "from sklearn.svm import LinearSVC"
   ],
   "outputs": [],
   "metadata": {}
  },
  {
   "cell_type": "code",
   "execution_count": 20,
   "source": [
    "model = LinearSVC()\r\n",
    "model.fit(treino_x, treino_y)"
   ],
   "outputs": [
    {
     "output_type": "execute_result",
     "data": {
      "text/plain": [
       "LinearSVC()"
      ]
     },
     "metadata": {},
     "execution_count": 20
    }
   ],
   "metadata": {}
  },
  {
   "cell_type": "code",
   "execution_count": 21,
   "source": [
    "animal_misterioso = [1, 1, 1]\r\n",
    "\r\n",
    "model.predict([animal_misterioso])"
   ],
   "outputs": [
    {
     "output_type": "execute_result",
     "data": {
      "text/plain": [
       "array([0])"
      ]
     },
     "metadata": {},
     "execution_count": 21
    }
   ],
   "metadata": {}
  },
  {
   "cell_type": "code",
   "execution_count": 22,
   "source": [
    "misterio1 = [1, 1, 1]\r\n",
    "misterio2 = [1, 1, 0]\r\n",
    "misterio3 = [0, 1, 1]\r\n",
    "\r\n",
    "teste_x = [misterio1, misterio2, misterio3]\r\n",
    "teste_y = [0, 1, 1]\r\n",
    "\r\n",
    "previsoes = model.predict(teste_x)"
   ],
   "outputs": [],
   "metadata": {}
  },
  {
   "cell_type": "code",
   "execution_count": 27,
   "source": [
    "corretos = (previsoes == teste_y).sum()\r\n",
    "total = len(teste_x)\r\n",
    "\r\n",
    "taxa_de_acerto = corretos / total\r\n",
    "\r\n",
    "print(\"A taxa de acerto: %.2f\" % (taxa_de_acerto * 100))"
   ],
   "outputs": [
    {
     "output_type": "stream",
     "name": "stdout",
     "text": [
      "A taxa de acerto: 66.67\n"
     ]
    }
   ],
   "metadata": {}
  },
  {
   "cell_type": "code",
   "execution_count": 24,
   "source": [
    "from sklearn.metrics import accuracy_score"
   ],
   "outputs": [],
   "metadata": {}
  },
  {
   "cell_type": "code",
   "execution_count": 28,
   "source": [
    "taxa_de_acerto = accuracy_score(teste_y, previsoes)\r\n",
    "\r\n",
    "print(\"A taxa de acerto: %.2f\" % (taxa_de_acerto * 100))"
   ],
   "outputs": [
    {
     "output_type": "stream",
     "name": "stdout",
     "text": [
      "A taxa de acerto: 66.67\n"
     ]
    }
   ],
   "metadata": {}
  }
 ],
 "metadata": {
  "orig_nbformat": 4,
  "language_info": {
   "name": "python",
   "version": "3.9.7",
   "mimetype": "text/x-python",
   "codemirror_mode": {
    "name": "ipython",
    "version": 3
   },
   "pygments_lexer": "ipython3",
   "nbconvert_exporter": "python",
   "file_extension": ".py"
  },
  "kernelspec": {
   "name": "python3",
   "display_name": "Python 3.9.7 64-bit"
  },
  "interpreter": {
   "hash": "d716d3087447d732d408563f09e95056395e35756340cb54fdc49b8a8ffe1616"
  }
 },
 "nbformat": 4,
 "nbformat_minor": 2
}